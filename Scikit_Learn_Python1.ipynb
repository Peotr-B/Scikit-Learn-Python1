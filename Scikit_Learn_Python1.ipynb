{
  "nbformat": 4,
  "nbformat_minor": 0,
  "metadata": {
    "colab": {
      "provenance": [],
      "collapsed_sections": [],
      "toc_visible": true,
      "authorship_tag": "ABX9TyNYf37U3umZot2EpY2cWubk",
      "include_colab_link": true
    },
    "kernelspec": {
      "name": "python3",
      "display_name": "Python 3"
    },
    "language_info": {
      "name": "python"
    }
  },
  "cells": [
    {
      "cell_type": "markdown",
      "metadata": {
        "id": "view-in-github",
        "colab_type": "text"
      },
      "source": [
        "<a href=\"https://colab.research.google.com/github/Peotr-B/Scikit-Learn-Python1/blob/main/Scikit_Learn_Python1.ipynb\" target=\"_parent\"><img src=\"https://colab.research.google.com/assets/colab-badge.svg\" alt=\"Open In Colab\"/></a>"
      ]
    },
    {
      "cell_type": "code",
      "execution_count": 55,
      "metadata": {
        "colab": {
          "base_uri": "https://localhost:8080/"
        },
        "id": "DR9ViEMKdWJJ",
        "outputId": "0ef37b60-6570-41fb-edce-653adf87b985"
      },
      "outputs": [
        {
          "output_type": "stream",
          "name": "stdout",
          "text": [
            "Hello, Peotr!\n"
          ]
        }
      ],
      "source": [
        "print('Hello, Peotr!')"
      ]
    },
    {
      "cell_type": "markdown",
      "source": [
        "Изучение и применение программного пакета Scikit-Learn Python для машинного обучения"
      ],
      "metadata": {
        "id": "l-Y9jzn-dwdD"
      }
    },
    {
      "cell_type": "markdown",
      "source": [
        "https://russianblogs.com/article/92821254172/"
      ],
      "metadata": {
        "id": "ortFFKgXdz2N"
      }
    },
    {
      "cell_type": "code",
      "source": [
        "from sklearn import datasets"
      ],
      "metadata": {
        "id": "PdW9j53DeZ91"
      },
      "execution_count": 56,
      "outputs": []
    },
    {
      "cell_type": "code",
      "source": [
        "#iris = datasets.load_iris()"
      ],
      "metadata": {
        "id": "0k1U9StygwYv"
      },
      "execution_count": 57,
      "outputs": []
    },
    {
      "cell_type": "markdown",
      "source": [
        "Импорт набора данных Iris\n",
        "         возвращаемое значение:\n",
        "         X-первые 5 данных обучающих функций\n",
        "         y-первые 5 категорий обучающих данных\n",
        "         X_shape - размер двумерного массива данных функции обучения"
      ],
      "metadata": {
        "id": "qmdBZI8YeiNJ"
      }
    },
    {
      "cell_type": "code",
      "source": [
        "#initialization"
      ],
      "metadata": {
        "id": "Kba0aehUeoV7"
      },
      "execution_count": 58,
      "outputs": []
    },
    {
      "cell_type": "code",
      "source": [
        "X = []\n",
        "y = []\n",
        "X_shape = () \n",
        "    \n",
        "# Пожалуйста, добавьте сюда код реализации"
      ],
      "metadata": {
        "id": "lx-_4OOsey2X"
      },
      "execution_count": 59,
      "outputs": []
    },
    {
      "cell_type": "code",
      "source": [
        "#********** Begin *********"
      ],
      "metadata": {
        "id": "hvFxZ9u2fHKZ"
      },
      "execution_count": 60,
      "outputs": []
    },
    {
      "cell_type": "code",
      "source": [
        "iris = datasets.load_iris()\n",
        "X = iris.data\n",
        "y = iris.target\n",
        "X_shape = X.shape\n",
        "#X = X[:5]\n",
        "XX = X[:5]  #Двойное \"X\" - чтобы не ограничивать исходный массив, в дальнейшем \n",
        "#нужно будет менять пределы, а если использовать только одинарый X, то менять\n",
        "#можно будет только внутри вырезанного массива\n",
        "yy = y[:5]"
      ],
      "metadata": {
        "id": "ucKGJLnnfNgz"
      },
      "execution_count": 61,
      "outputs": []
    },
    {
      "cell_type": "code",
      "source": [
        "XX"
      ],
      "metadata": {
        "colab": {
          "base_uri": "https://localhost:8080/"
        },
        "id": "DszCrcRY10M2",
        "outputId": "0e2a099e-e560-4872-b259-8ee33176d90f"
      },
      "execution_count": 62,
      "outputs": [
        {
          "output_type": "execute_result",
          "data": {
            "text/plain": [
              "array([[5.1, 3.5, 1.4, 0.2],\n",
              "       [4.9, 3. , 1.4, 0.2],\n",
              "       [4.7, 3.2, 1.3, 0.2],\n",
              "       [4.6, 3.1, 1.5, 0.2],\n",
              "       [5. , 3.6, 1.4, 0.2]])"
            ]
          },
          "metadata": {},
          "execution_count": 62
        }
      ]
    },
    {
      "cell_type": "code",
      "source": [
        "yy"
      ],
      "metadata": {
        "colab": {
          "base_uri": "https://localhost:8080/"
        },
        "id": "hpfFT_Eah5PB",
        "outputId": "8e86a700-1bcc-41b6-e193-ac0fad87f2e4"
      },
      "execution_count": 63,
      "outputs": [
        {
          "output_type": "execute_result",
          "data": {
            "text/plain": [
              "array([0, 0, 0, 0, 0])"
            ]
          },
          "metadata": {},
          "execution_count": 63
        }
      ]
    },
    {
      "cell_type": "code",
      "source": [
        "X_shape"
      ],
      "metadata": {
        "colab": {
          "base_uri": "https://localhost:8080/"
        },
        "id": "6ZR5UOdHiLHQ",
        "outputId": "52043ff3-8c14-4fc5-9e53-972e6e1e2392"
      },
      "execution_count": 64,
      "outputs": [
        {
          "output_type": "execute_result",
          "data": {
            "text/plain": [
              "(150, 4)"
            ]
          },
          "metadata": {},
          "execution_count": 64
        }
      ]
    },
    {
      "cell_type": "code",
      "source": [
        "XX.mean(), XX.std()"
      ],
      "metadata": {
        "colab": {
          "base_uri": "https://localhost:8080/"
        },
        "id": "n0KZnqjJVwkM",
        "outputId": "7bca6894-459e-449a-e838-adc9a94be422"
      },
      "execution_count": 65,
      "outputs": [
        {
          "output_type": "execute_result",
          "data": {
            "text/plain": [
              "(2.435, 1.7855741373575056)"
            ]
          },
          "metadata": {},
          "execution_count": 65
        }
      ]
    },
    {
      "cell_type": "code",
      "source": [
        "XX.mean(axis=0), XX.std(axis=0)"
      ],
      "metadata": {
        "colab": {
          "base_uri": "https://localhost:8080/"
        },
        "id": "MeSxrzjSOjZb",
        "outputId": "6db37114-64bc-4c74-b6fb-bfbb85603653"
      },
      "execution_count": 66,
      "outputs": [
        {
          "output_type": "execute_result",
          "data": {
            "text/plain": [
              "(array([4.86, 3.28, 1.4 , 0.2 ]),\n",
              " array([0.18547237, 0.23151674, 0.06324555, 0.        ]))"
            ]
          },
          "metadata": {},
          "execution_count": 66
        }
      ]
    },
    {
      "cell_type": "code",
      "source": [
        "from sklearn import preprocessing\n",
        "import numpy as np"
      ],
      "metadata": {
        "id": "6O3yiPdBx8Ad"
      },
      "execution_count": 67,
      "outputs": []
    },
    {
      "cell_type": "code",
      "source": [
        "XX_scaled = preprocessing.scale(XX)"
      ],
      "metadata": {
        "id": "xMzvDIzszDRP"
      },
      "execution_count": 68,
      "outputs": []
    },
    {
      "cell_type": "code",
      "source": [
        "XX_scaled"
      ],
      "metadata": {
        "colab": {
          "base_uri": "https://localhost:8080/"
        },
        "id": "NiwcOvhdzzc6",
        "outputId": "a1a6098b-4e2e-42b5-bab2-216ec3264023"
      },
      "execution_count": 69,
      "outputs": [
        {
          "output_type": "execute_result",
          "data": {
            "text/plain": [
              "array([[ 1.29399328,  0.95025527,  0.        ,  0.        ],\n",
              "       [ 0.21566555, -1.2094158 ,  0.        ,  0.        ],\n",
              "       [-0.86266219, -0.34554737, -1.58113883,  0.        ],\n",
              "       [-1.40182605, -0.77748158,  1.58113883,  0.        ],\n",
              "       [ 0.75482941,  1.38218948,  0.        ,  0.        ]])"
            ]
          },
          "metadata": {},
          "execution_count": 69
        }
      ]
    },
    {
      "cell_type": "code",
      "source": [
        "XX_scaled.mean(), XX_scaled.std()"
      ],
      "metadata": {
        "colab": {
          "base_uri": "https://localhost:8080/"
        },
        "id": "k9sC-BwX0RSg",
        "outputId": "8202ec27-c4e9-4b31-9547-86c5708639f5"
      },
      "execution_count": 70,
      "outputs": [
        {
          "output_type": "execute_result",
          "data": {
            "text/plain": [
              "(1.1990408665951691e-15, 0.8660254037844386)"
            ]
          },
          "metadata": {},
          "execution_count": 70
        }
      ]
    },
    {
      "cell_type": "markdown",
      "source": [
        "Обработка поперечных данных (строки):\n"
      ],
      "metadata": {
        "id": "jkIQvNzSiGH1"
      }
    },
    {
      "cell_type": "code",
      "source": [
        "XX_scaled.mean(axis=0), XX_scaled.std(axis=0)"
      ],
      "metadata": {
        "colab": {
          "base_uri": "https://localhost:8080/"
        },
        "id": "ngt5MJ62UIee",
        "outputId": "962db713-f999-43aa-a96a-2c50f1a072c0"
      },
      "execution_count": 71,
      "outputs": [
        {
          "output_type": "execute_result",
          "data": {
            "text/plain": [
              "(array([2.86437540e-15, 1.19904087e-15, 7.10542736e-16, 0.00000000e+00]),\n",
              " array([1., 1., 1., 0.]))"
            ]
          },
          "metadata": {},
          "execution_count": 71
        }
      ]
    },
    {
      "cell_type": "markdown",
      "source": [
        "Обработка продольного направления (столбца):"
      ],
      "metadata": {
        "id": "eJaOReS-icYh"
      }
    },
    {
      "cell_type": "code",
      "source": [
        "XX_scaled.mean(axis=1), XX_scaled.std(axis=1)"
      ],
      "metadata": {
        "colab": {
          "base_uri": "https://localhost:8080/"
        },
        "outputId": "7dc5ea56-54ac-4655-a62c-4c55363404c3",
        "id": "WOHDQb43VWnJ"
      },
      "execution_count": 72,
      "outputs": [
        {
          "output_type": "execute_result",
          "data": {
            "text/plain": [
              "(array([ 0.56106214, -0.24843756, -0.6973371 , -0.1495422 ,  0.53425472]),\n",
              " array([0.57407334, 0.56176359, 0.59549831, 1.11581163, 0.5784684 ]))"
            ]
          },
          "metadata": {},
          "execution_count": 72
        }
      ]
    },
    {
      "cell_type": "markdown",
      "source": [
        "https://russianblogs.com/article/17772510890/"
      ],
      "metadata": {
        "id": "QbTVdAj5fb7i"
      }
    },
    {
      "cell_type": "code",
      "source": [
        "XX_train = XX"
      ],
      "metadata": {
        "id": "Ys20Oz61Tpkp"
      },
      "execution_count": 73,
      "outputs": []
    },
    {
      "cell_type": "code",
      "source": [
        "scaler = preprocessing.StandardScaler().fit(XX_train)"
      ],
      "metadata": {
        "id": "7fcQ3qEbS7MH"
      },
      "execution_count": 74,
      "outputs": []
    },
    {
      "cell_type": "code",
      "source": [
        "scaler"
      ],
      "metadata": {
        "colab": {
          "base_uri": "https://localhost:8080/"
        },
        "id": "gNl-Ed0fUotW",
        "outputId": "0a69cb94-2af5-4dfd-b112-d320724ea370"
      },
      "execution_count": 75,
      "outputs": [
        {
          "output_type": "execute_result",
          "data": {
            "text/plain": [
              "StandardScaler()"
            ]
          },
          "metadata": {},
          "execution_count": 75
        }
      ]
    },
    {
      "cell_type": "code",
      "source": [
        "scaler.mean_"
      ],
      "metadata": {
        "colab": {
          "base_uri": "https://localhost:8080/"
        },
        "id": "gO1yAW4hUzFT",
        "outputId": "8f652e5f-de6b-4ecc-f4f1-21c3b7a8277b"
      },
      "execution_count": 76,
      "outputs": [
        {
          "output_type": "execute_result",
          "data": {
            "text/plain": [
              "array([4.86, 3.28, 1.4 , 0.2 ])"
            ]
          },
          "metadata": {},
          "execution_count": 76
        }
      ]
    },
    {
      "cell_type": "code",
      "source": [
        "scaler.scale_"
      ],
      "metadata": {
        "colab": {
          "base_uri": "https://localhost:8080/"
        },
        "id": "ClDPY7y8E_An",
        "outputId": "b4a22d2c-dcbf-475a-9d2d-8445b1a80b2a"
      },
      "execution_count": 77,
      "outputs": [
        {
          "output_type": "execute_result",
          "data": {
            "text/plain": [
              "array([0.18547237, 0.23151674, 0.06324555, 1.        ])"
            ]
          },
          "metadata": {},
          "execution_count": 77
        }
      ]
    },
    {
      "cell_type": "code",
      "source": [
        "scaler.transform(XX_train)"
      ],
      "metadata": {
        "colab": {
          "base_uri": "https://localhost:8080/"
        },
        "id": "aEqXtoAYakTV",
        "outputId": "06aab7ed-5da3-4388-83f9-f6fe54debdb6"
      },
      "execution_count": 78,
      "outputs": [
        {
          "output_type": "execute_result",
          "data": {
            "text/plain": [
              "array([[ 1.29399328,  0.95025527,  0.        ,  0.        ],\n",
              "       [ 0.21566555, -1.2094158 ,  0.        ,  0.        ],\n",
              "       [-0.86266219, -0.34554737, -1.58113883,  0.        ],\n",
              "       [-1.40182605, -0.77748158,  1.58113883,  0.        ],\n",
              "       [ 0.75482941,  1.38218948,  0.        ,  0.        ]])"
            ]
          },
          "metadata": {},
          "execution_count": 78
        }
      ]
    },
    {
      "cell_type": "code",
      "source": [
        "XX_scaled.mean(), XX_scaled.std()"
      ],
      "metadata": {
        "colab": {
          "base_uri": "https://localhost:8080/"
        },
        "id": "nVoRHKtUZtzW",
        "outputId": "af82dd98-f209-4d51-c052-f75023dc3260"
      },
      "execution_count": 79,
      "outputs": [
        {
          "output_type": "execute_result",
          "data": {
            "text/plain": [
              "(1.1990408665951691e-15, 0.8660254037844386)"
            ]
          },
          "metadata": {},
          "execution_count": 79
        }
      ]
    },
    {
      "cell_type": "code",
      "source": [
        "scaler.mean_"
      ],
      "metadata": {
        "colab": {
          "base_uri": "https://localhost:8080/"
        },
        "outputId": "dd6dd66a-1fca-4773-a0d4-d213a97188b2",
        "id": "rr-9O0yN-XOh"
      },
      "execution_count": 80,
      "outputs": [
        {
          "output_type": "execute_result",
          "data": {
            "text/plain": [
              "array([4.86, 3.28, 1.4 , 0.2 ])"
            ]
          },
          "metadata": {},
          "execution_count": 80
        }
      ]
    },
    {
      "cell_type": "code",
      "source": [
        "XX_scaled.mean(axis=0), XX_scaled.std()"
      ],
      "metadata": {
        "colab": {
          "base_uri": "https://localhost:8080/"
        },
        "outputId": "5a643913-d59f-410c-e5a2-7e6781811190",
        "id": "p7oiAMeM-fhJ"
      },
      "execution_count": 81,
      "outputs": [
        {
          "output_type": "execute_result",
          "data": {
            "text/plain": [
              "(array([2.86437540e-15, 1.19904087e-15, 7.10542736e-16, 0.00000000e+00]),\n",
              " 0.8660254037844386)"
            ]
          },
          "metadata": {},
          "execution_count": 81
        }
      ]
    },
    {
      "cell_type": "code",
      "source": [
        "min_max_scaler = preprocessing.MinMaxScaler()"
      ],
      "metadata": {
        "id": "ZQQppw3mkKMM"
      },
      "execution_count": 82,
      "outputs": []
    },
    {
      "cell_type": "code",
      "source": [
        "XX_train_minmax = min_max_scaler.fit_transform(XX_train)"
      ],
      "metadata": {
        "id": "danCnLqPklYP"
      },
      "execution_count": 83,
      "outputs": []
    },
    {
      "cell_type": "code",
      "source": [
        "XX_train_minmax"
      ],
      "metadata": {
        "colab": {
          "base_uri": "https://localhost:8080/"
        },
        "id": "2EvVqrPFk6bf",
        "outputId": "5ed748d3-856b-46da-bdc6-b76f7ed8fd01"
      },
      "execution_count": 84,
      "outputs": [
        {
          "output_type": "execute_result",
          "data": {
            "text/plain": [
              "array([[1.        , 0.83333333, 0.5       , 0.        ],\n",
              "       [0.6       , 0.        , 0.5       , 0.        ],\n",
              "       [0.2       , 0.33333333, 0.        , 0.        ],\n",
              "       [0.        , 0.16666667, 1.        , 0.        ],\n",
              "       [0.8       , 1.        , 0.5       , 0.        ]])"
            ]
          },
          "metadata": {},
          "execution_count": 84
        }
      ]
    },
    {
      "cell_type": "code",
      "source": [
        "XX_test = np.array([[-8., 5., 2., -0.5]])"
      ],
      "metadata": {
        "id": "v8JOhM1SlNc4"
      },
      "execution_count": 85,
      "outputs": []
    },
    {
      "cell_type": "code",
      "source": [
        "XX_test_minmax = min_max_scaler.transform(XX_test)"
      ],
      "metadata": {
        "id": "aifxZW4XmW35"
      },
      "execution_count": 86,
      "outputs": []
    },
    {
      "cell_type": "code",
      "source": [
        "XX_test_minmax"
      ],
      "metadata": {
        "colab": {
          "base_uri": "https://localhost:8080/"
        },
        "id": "PS37f8Gkm-Ti",
        "outputId": "b0fe3738-a2b3-4596-ed8f-3f400cd66509"
      },
      "execution_count": 87,
      "outputs": [
        {
          "output_type": "execute_result",
          "data": {
            "text/plain": [
              "array([[-25.2       ,   3.33333333,   3.5       ,  -0.7       ]])"
            ]
          },
          "metadata": {},
          "execution_count": 87
        }
      ]
    },
    {
      "cell_type": "code",
      "source": [
        "X2_test = XX_test_minmax"
      ],
      "metadata": {
        "id": "k2-MN1JXxCfm"
      },
      "execution_count": 88,
      "outputs": []
    },
    {
      "cell_type": "code",
      "source": [
        "X2_test"
      ],
      "metadata": {
        "colab": {
          "base_uri": "https://localhost:8080/"
        },
        "id": "efnejtRsxHm-",
        "outputId": "b59459dd-d9b1-4b33-a7f1-9e49b86ca0ae"
      },
      "execution_count": 89,
      "outputs": [
        {
          "output_type": "execute_result",
          "data": {
            "text/plain": [
              "array([[-25.2       ,   3.33333333,   3.5       ,  -0.7       ]])"
            ]
          },
          "metadata": {},
          "execution_count": 89
        }
      ]
    },
    {
      "cell_type": "code",
      "source": [
        "XXX = X[4:8]"
      ],
      "metadata": {
        "id": "vaZ8YtqE-Puz"
      },
      "execution_count": 90,
      "outputs": []
    },
    {
      "cell_type": "code",
      "source": [
        "XXX"
      ],
      "metadata": {
        "colab": {
          "base_uri": "https://localhost:8080/"
        },
        "id": "zEEZ4g2d-kx-",
        "outputId": "75693c75-1c7e-43b9-8d00-9d4ecbf752eb"
      },
      "execution_count": 91,
      "outputs": [
        {
          "output_type": "execute_result",
          "data": {
            "text/plain": [
              "array([[5. , 3.6, 1.4, 0.2],\n",
              "       [5.4, 3.9, 1.7, 0.4],\n",
              "       [4.6, 3.4, 1.4, 0.3],\n",
              "       [5. , 3.4, 1.5, 0.2]])"
            ]
          },
          "metadata": {},
          "execution_count": 91
        }
      ]
    },
    {
      "cell_type": "code",
      "source": [
        "XXX_train = XXX"
      ],
      "metadata": {
        "id": "2K_luL62-3nz"
      },
      "execution_count": 92,
      "outputs": []
    },
    {
      "cell_type": "code",
      "source": [
        "scaler3X = preprocessing.StandardScaler().fit(XXX_train)"
      ],
      "metadata": {
        "id": "_pAUQQLO_EQ4"
      },
      "execution_count": 93,
      "outputs": []
    },
    {
      "cell_type": "code",
      "source": [
        "scaler3X"
      ],
      "metadata": {
        "colab": {
          "base_uri": "https://localhost:8080/"
        },
        "id": "hvm8vfVH_paC",
        "outputId": "f325e561-7c9c-459d-9810-23cb600aaa48"
      },
      "execution_count": 94,
      "outputs": [
        {
          "output_type": "execute_result",
          "data": {
            "text/plain": [
              "StandardScaler()"
            ]
          },
          "metadata": {},
          "execution_count": 94
        }
      ]
    },
    {
      "cell_type": "code",
      "source": [
        "scaler3X.mean_"
      ],
      "metadata": {
        "colab": {
          "base_uri": "https://localhost:8080/"
        },
        "outputId": "7a4cc744-48d8-4d3e-dff4-7958fb981219",
        "id": "DYbI2VDV_w0M"
      },
      "execution_count": 95,
      "outputs": [
        {
          "output_type": "execute_result",
          "data": {
            "text/plain": [
              "array([5.   , 3.575, 1.5  , 0.275])"
            ]
          },
          "metadata": {},
          "execution_count": 95
        }
      ]
    },
    {
      "cell_type": "code",
      "source": [
        "scaler.scale_"
      ],
      "metadata": {
        "colab": {
          "base_uri": "https://localhost:8080/"
        },
        "outputId": "861207c3-1a43-4d8b-bf9e-b815abe540fb",
        "id": "G0YhGPWK_23W"
      },
      "execution_count": 96,
      "outputs": [
        {
          "output_type": "execute_result",
          "data": {
            "text/plain": [
              "array([0.18547237, 0.23151674, 0.06324555, 1.        ])"
            ]
          },
          "metadata": {},
          "execution_count": 96
        }
      ]
    },
    {
      "cell_type": "code",
      "source": [
        "XXX_scaled = preprocessing.scale(XXX)"
      ],
      "metadata": {
        "id": "u0HH7oHsum6L"
      },
      "execution_count": 97,
      "outputs": []
    },
    {
      "cell_type": "code",
      "source": [
        "XXX_scaled.mean(), XXX_scaled.std()"
      ],
      "metadata": {
        "colab": {
          "base_uri": "https://localhost:8080/"
        },
        "outputId": "80a1a01c-d1ef-4350-9159-41881861c135",
        "id": "mkOoQbqMhH04"
      },
      "execution_count": 98,
      "outputs": [
        {
          "output_type": "execute_result",
          "data": {
            "text/plain": [
              "(-3.885780586188048e-16, 1.0)"
            ]
          },
          "metadata": {},
          "execution_count": 98
        }
      ]
    },
    {
      "cell_type": "code",
      "source": [
        "XXX_train_minmax = min_max_scaler.fit_transform(XXX_train)"
      ],
      "metadata": {
        "id": "Nm3f1yz2vyGh"
      },
      "execution_count": 99,
      "outputs": []
    },
    {
      "cell_type": "code",
      "source": [
        "XXX_train_minmax"
      ],
      "metadata": {
        "colab": {
          "base_uri": "https://localhost:8080/"
        },
        "outputId": "2cafe68d-a155-48c6-e5eb-6a4ef07174d4",
        "id": "5lGvoMHBwC6b"
      },
      "execution_count": 100,
      "outputs": [
        {
          "output_type": "execute_result",
          "data": {
            "text/plain": [
              "array([[0.5       , 0.4       , 0.        , 0.        ],\n",
              "       [1.        , 1.        , 1.        , 1.        ],\n",
              "       [0.        , 0.        , 0.        , 0.5       ],\n",
              "       [0.5       , 0.        , 0.33333333, 0.        ]])"
            ]
          },
          "metadata": {},
          "execution_count": 100
        }
      ]
    },
    {
      "cell_type": "code",
      "source": [
        "XX_test_minmax = min_max_scaler.transform(XX_test)"
      ],
      "metadata": {
        "id": "2FFXwGPOvKbu"
      },
      "execution_count": 101,
      "outputs": []
    },
    {
      "cell_type": "code",
      "source": [
        "XX_test_minmax"
      ],
      "metadata": {
        "colab": {
          "base_uri": "https://localhost:8080/"
        },
        "outputId": "f8349fd2-d6c7-41d1-d6a9-049f59c0c077",
        "id": "3hCoCkvPvRgB"
      },
      "execution_count": 102,
      "outputs": [
        {
          "output_type": "execute_result",
          "data": {
            "text/plain": [
              "array([[-15.75,   3.2 ,   2.  ,  -3.5 ]])"
            ]
          },
          "metadata": {},
          "execution_count": 102
        }
      ]
    },
    {
      "cell_type": "code",
      "source": [
        "X3_test = XX_test_minmax"
      ],
      "metadata": {
        "id": "6NF-NftrwtBr"
      },
      "execution_count": 103,
      "outputs": []
    },
    {
      "cell_type": "code",
      "source": [
        "X3_test"
      ],
      "metadata": {
        "colab": {
          "base_uri": "https://localhost:8080/"
        },
        "id": "NsyppwFfw6uZ",
        "outputId": "3f3e87e9-1254-4d8a-8381-a41b878b51b2"
      },
      "execution_count": 104,
      "outputs": [
        {
          "output_type": "execute_result",
          "data": {
            "text/plain": [
              "array([[-15.75,   3.2 ,   2.  ,  -3.5 ]])"
            ]
          },
          "metadata": {},
          "execution_count": 104
        }
      ]
    },
    {
      "cell_type": "code",
      "source": [
        "X2_test"
      ],
      "metadata": {
        "colab": {
          "base_uri": "https://localhost:8080/"
        },
        "id": "1Vubmx6AxUhW",
        "outputId": "fb1ea68d-3fa9-4265-ae9f-114f11ca5f38"
      },
      "execution_count": 106,
      "outputs": [
        {
          "output_type": "execute_result",
          "data": {
            "text/plain": [
              "array([[-25.2       ,   3.33333333,   3.5       ,  -0.7       ]])"
            ]
          },
          "metadata": {},
          "execution_count": 106
        }
      ]
    }
  ]
}